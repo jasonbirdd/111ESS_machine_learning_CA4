{
  "nbformat": 4,
  "nbformat_minor": 0,
  "metadata": {
    "colab": {
      "name": "PCA_demo.ipynb",
      "provenance": []
    },
    "kernelspec": {
      "name": "python3",
      "display_name": "Python 3"
    },
    "language_info": {
      "name": "python"
    }
  },
  "cells": [
    {
      "cell_type": "code",
      "execution_count": 10,
      "metadata": {
        "id": "Q3gqRwk7Bko4"
      },
      "outputs": [],
      "source": [
        "# -*- coding: utf-8 -*-\n",
        "\"\"\"\n",
        "Created on Tue May 10 15:08:27 2022\n",
        "\n",
        "@author: ess\n",
        "\"\"\"\n",
        "\n",
        "import numpy as np\n",
        "import matplotlib.pyplot as plt\n",
        "import numpy.random as rnd"
      ]
    },
    {
      "cell_type": "markdown",
      "source": [
        "### Create random 4d data"
      ],
      "metadata": {
        "id": "egty7-aqB2Pe"
      }
    },
    {
      "cell_type": "code",
      "source": [
        "mu = np.array([10,13,7,6])\n",
        "sigma = np.array([[12.61, 11.51, 11.52, 11.32], [11.51, 12.44, 11.36, 11.33], [11.52, 11.36, 12.83, 11.34],\n",
        "                  [11.32, 11.33, 11.34, 12.27]])\n",
        "y = np.linspace(1, 100, num = 1000)\n",
        "print(\"Mu \", mu.shape)\n",
        "print(\"Sigma \", sigma.shape)"
      ],
      "metadata": {
        "id": "bGfzbz4SBmhV",
        "outputId": "f48ed7dc-2e4c-4216-e7f3-7672e9eb21af",
        "colab": {
          "base_uri": "https://localhost:8080/"
        }
      },
      "execution_count": 11,
      "outputs": [
        {
          "output_type": "stream",
          "name": "stdout",
          "text": [
            "Mu  (4,)\n",
            "Sigma  (4, 4)\n"
          ]
        }
      ]
    },
    {
      "cell_type": "markdown",
      "source": [
        "### Create 1000 samples using mean and sigma"
      ],
      "metadata": {
        "id": "cEon3SDCB6NX"
      }
    },
    {
      "cell_type": "code",
      "source": [
        "org_data = rnd.multivariate_normal(mu, sigma, size=(1000))\n",
        "print(\"Data shape \", org_data.shape)"
      ],
      "metadata": {
        "id": "1lYQzwsCBt6H",
        "outputId": "1d553d43-15e4-44b5-b146-46d973122249",
        "colab": {
          "base_uri": "https://localhost:8080/"
        }
      },
      "execution_count": 12,
      "outputs": [
        {
          "output_type": "stream",
          "name": "stdout",
          "text": [
            "Data shape  (1000, 4)\n"
          ]
        }
      ]
    },
    {
      "cell_type": "markdown",
      "source": [
        "### Subtract mean from data"
      ],
      "metadata": {
        "id": "TYtjWxtrB7aV"
      }
    },
    {
      "cell_type": "code",
      "source": [
        "mean = np.mean(org_data, axis= 0)\n",
        "print(\"Mean \", mean.shape)\n",
        "mean_data = org_data - mean\n",
        "print(\"Data after subtracting mean \", org_data.shape, \"\\n\")"
      ],
      "metadata": {
        "id": "umqgcXeMBvfm",
        "outputId": "95a10e20-a8d4-4da5-e9eb-a9c7154c1067",
        "colab": {
          "base_uri": "https://localhost:8080/"
        }
      },
      "execution_count": 13,
      "outputs": [
        {
          "output_type": "stream",
          "name": "stdout",
          "text": [
            "Mean  (4,)\n",
            "Data after subtracting mean  (1000, 4) \n",
            "\n"
          ]
        }
      ]
    },
    {
      "cell_type": "markdown",
      "source": [
        "### Compute covariance matrix"
      ],
      "metadata": {
        "id": "OygnxjtsB_Bh"
      }
    },
    {
      "cell_type": "code",
      "source": [
        "cov = np.cov(mean_data.T)\n",
        "cov = np.round(cov, 2)\n",
        "print(\"Covariance matrix \", cov.shape, \"\\n\")"
      ],
      "metadata": {
        "id": "vxCN9VMTBxT_",
        "outputId": "cc003ef6-b86b-41bd-e73e-bb355378e24b",
        "colab": {
          "base_uri": "https://localhost:8080/"
        }
      },
      "execution_count": 14,
      "outputs": [
        {
          "output_type": "stream",
          "name": "stdout",
          "text": [
            "Covariance matrix  (4, 4) \n",
            "\n"
          ]
        }
      ]
    },
    {
      "cell_type": "markdown",
      "source": [
        "### Perform eigen decomposition of covariance matrix"
      ],
      "metadata": {
        "id": "ZFwyltGyCAoa"
      }
    },
    {
      "cell_type": "code",
      "source": [
        "eig_val, eig_vec = np.linalg.eig(cov)\n",
        "print(\"Eigen vectors \", eig_vec)\n",
        "print(\"Eigen values \", eig_val, \"\\n\")"
      ],
      "metadata": {
        "id": "TbRgju08ByiW",
        "outputId": "61d2b931-8ca3-41e7-b645-b42ce46c62b7",
        "colab": {
          "base_uri": "https://localhost:8080/"
        }
      },
      "execution_count": 15,
      "outputs": [
        {
          "output_type": "stream",
          "name": "stdout",
          "text": [
            "Eigen vectors  [[ 0.50980368 -0.63410773  0.53659252  0.22377682]\n",
            " [ 0.50115262  0.73256665  0.22101574  0.40415863]\n",
            " [ 0.49483466  0.12477219  0.03564957 -0.85924366]\n",
            " [ 0.49404951 -0.21374142 -0.81360287  0.21972725]]\n",
            "Eigen values  [44.8944829   0.93937197  1.11509142  1.26105371] \n",
            "\n"
          ]
        }
      ]
    },
    {
      "cell_type": "markdown",
      "source": [
        "### Sort eigen values and corresponding eigen vectors in descending order"
      ],
      "metadata": {
        "id": "ZBZXDluvCC3G"
      }
    },
    {
      "cell_type": "code",
      "source": [
        "indices = np.arange(0,len(eig_val), 1)\n",
        "indices = ([x for _,x in sorted(zip(eig_val, indices))])[::-1]\n",
        "eig_val = eig_val[indices]\n",
        "eig_vec = eig_vec[:,indices]\n",
        "print(\"Sorted Eigen vectors \", eig_vec)\n",
        "print(\"Sorted Eigen values \", eig_val, \"\\n\")"
      ],
      "metadata": {
        "id": "9OE8ikttBzl7",
        "outputId": "570c96c2-dc01-4435-9726-caf165437fca",
        "colab": {
          "base_uri": "https://localhost:8080/"
        }
      },
      "execution_count": 16,
      "outputs": [
        {
          "output_type": "stream",
          "name": "stdout",
          "text": [
            "Sorted Eigen vectors  [[ 0.50980368  0.22377682  0.53659252 -0.63410773]\n",
            " [ 0.50115262  0.40415863  0.22101574  0.73256665]\n",
            " [ 0.49483466 -0.85924366  0.03564957  0.12477219]\n",
            " [ 0.49404951  0.21972725 -0.81360287 -0.21374142]]\n",
            "Sorted Eigen values  [44.8944829   1.26105371  1.11509142  0.93937197] \n",
            "\n"
          ]
        }
      ]
    },
    {
      "cell_type": "markdown",
      "source": [
        "### Get explained variance"
      ],
      "metadata": {
        "id": "fhAHfGyQCFYG"
      }
    },
    {
      "cell_type": "code",
      "source": [
        "sum_eig_val = np.sum(eig_val)\n",
        "explained_variance = eig_val/ sum_eig_val\n",
        "print(explained_variance)\n",
        "cumulative_variance = np.cumsum(explained_variance)\n",
        "print(cumulative_variance)"
      ],
      "metadata": {
        "id": "t5lXfe6YB0k1",
        "outputId": "0e5c860f-e646-4b6e-a2ce-568294ffa1e5",
        "colab": {
          "base_uri": "https://localhost:8080/"
        }
      },
      "execution_count": 17,
      "outputs": [
        {
          "output_type": "stream",
          "name": "stdout",
          "text": [
            "[0.93122761 0.02615751 0.02312988 0.019485  ]\n",
            "[0.93122761 0.95738512 0.980515   1.        ]\n"
          ]
        }
      ]
    },
    {
      "cell_type": "markdown",
      "source": [
        "### Take transpose of eigen vectors with data"
      ],
      "metadata": {
        "id": "V7T1EOkMCHQX"
      }
    },
    {
      "cell_type": "code",
      "source": [
        "pca_data = np.dot(mean_data, eig_vec)\n",
        "print(\"Transformed data \", pca_data.shape)"
      ],
      "metadata": {
        "id": "zAiyYt2FB1a-",
        "outputId": "6a026aa3-07a9-4a0d-e50a-9e155908d3df",
        "colab": {
          "base_uri": "https://localhost:8080/"
        }
      },
      "execution_count": 18,
      "outputs": [
        {
          "output_type": "stream",
          "name": "stdout",
          "text": [
            "Transformed data  (1000, 4)\n"
          ]
        }
      ]
    },
    {
      "cell_type": "markdown",
      "source": [
        "reference : https://towardsdatascience.com/a-step-by-step-implementation-of-principal-component-analysis-5520cc6cd598"
      ],
      "metadata": {
        "id": "sbm8XmuACVKS"
      }
    }
  ]
}